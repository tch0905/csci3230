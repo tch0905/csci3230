{
 "cells": [
  {
   "cell_type": "code",
   "execution_count": null,
   "outputs": [],
   "source": [
    "# import required modules\n",
    "import numpy as np\n",
    "from scipy.cluster.vq import kmeans2\n",
    "import pylab\n",
    "\n",
    "# generate clouds of 2D normally distributed points\n",
    "N = 600 # number of points in each cluster"
   ],
   "metadata": {
    "collapsed": false
   }
  },
  {
   "cell_type": "code",
   "execution_count": null,
   "outputs": [],
   "source": [
    "# cloud 1: mean (0, 0)\n",
    "mean1 = [0, 0]\n",
    "cov1  = [[1, 0], [0, 1]]\n",
    "x1,y1 = np.random.multivariate_normal(mean1, cov1, N).T\n",
    "\n",
    "# cloud 2: mean (5, 5)\n",
    "mean2 = [5, 5]\n",
    "cov2  = [[1, 0], [0, 1]]\n",
    "x2,y2 = np.random.multivariate_normal(mean2, cov2, N).T\n",
    "\n",
    "xs, ys = np.concatenate( (x1, x2) ), np.concatenate( (y1, y2) )\n",
    "ax = pylab.subplot(111)\n",
    "ax.scatter(xs, ys)\n",
    "ax.figure.show()"
   ],
   "metadata": {
    "collapsed": false
   }
  },
  {
   "cell_type": "code",
   "execution_count": null,
   "outputs": [],
   "source": [
    "# merge the clouds and arrange into data points\n",
    "points = np.array([xs, ys]).T\n",
    "\n",
    "# cluster the points using k-means\n",
    "centroids, clusters = kmeans2(points, k=2)\n",
    "print(centroids, clusters)"
   ],
   "metadata": {
    "collapsed": false
   }
  },
  {
   "cell_type": "code",
   "execution_count": null,
   "outputs": [],
   "source": [
    "pred_x1 = xs[clusters==0]\n",
    "pred_y1 = ys[clusters==0]\n",
    "\n",
    "pred_x2 = xs[clusters==1]\n",
    "pred_y2 = ys[clusters==1]\n",
    "\n",
    "ax = pylab.subplot(111)\n",
    "ax.scatter(pred_x1, pred_y1)\n",
    "ax.scatter(pred_x2, pred_y2)\n",
    "ax.scatter(centroids[0][0], centroids[0][1], c='yellow')\n",
    "ax.scatter(centroids[1][0], centroids[1][1], c='green')\n",
    "ax.figure.show()"
   ],
   "metadata": {
    "collapsed": false
   }
  },
  {
   "cell_type": "code",
   "execution_count": null,
   "outputs": [],
   "source": [
    "# determine which centroid belongs to which cluster\n",
    "# using Euclidean distance\n",
    "dist1 = np.linalg.norm(centroids[0]-mean1)\n",
    "dist2 = np.linalg.norm(centroids[1]-mean1)\n",
    "if dist1 <= dist2:\n",
    "    FIRST, SECOND = 0, 1\n",
    "else:\n",
    "    FIRST, SECOND = 1, 0\n",
    "\n",
    "# compute accuracy by iterating through all 2N points\n",
    "# note: first N points are from cloud1, second N points are from cloud2\n",
    "correct = 0\n",
    "for i in range(len(clusters)):\n",
    "    if clusters[i] == FIRST and i < N:\n",
    "        correct += 1\n",
    "    elif clusters[i] == SECOND and i >= N:\n",
    "        correct += 1\n",
    "\n",
    "# output accuracy\n",
    "print('Accuracy: %.2f' % (correct*100./len(clusters)))"
   ],
   "metadata": {
    "collapsed": false
   }
  },
  {
   "cell_type": "code",
   "execution_count": null,
   "outputs": [],
   "source": [],
   "metadata": {
    "collapsed": false
   }
  }
 ],
 "metadata": {
  "kernelspec": {
   "display_name": "Python 3",
   "language": "python",
   "name": "python3"
  },
  "language_info": {
   "codemirror_mode": {
    "name": "ipython",
    "version": 2
   },
   "file_extension": ".py",
   "mimetype": "text/x-python",
   "name": "python",
   "nbconvert_exporter": "python",
   "pygments_lexer": "ipython2",
   "version": "2.7.6"
  }
 },
 "nbformat": 4,
 "nbformat_minor": 0
}
